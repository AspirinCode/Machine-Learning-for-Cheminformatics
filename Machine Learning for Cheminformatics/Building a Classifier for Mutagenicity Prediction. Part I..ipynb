{
 "cells": [
  {
   "cell_type": "markdown",
   "metadata": {},
   "source": [
    "###Building a Classifier for Mutagenicity Prediction. "
   ]
  },
  {
   "cell_type": "markdown",
   "metadata": {},
   "source": [
    "### Introduction"
   ]
  },
  {
   "cell_type": "markdown",
   "metadata": {},
   "source": [
    "A chemical compound can not be considered as a drug candidate if it doesn't pass the mutagenicity test. Mutagenicity is a property of a compound to cause mutations and pose a toxic risk to humans. That's why it is very important to detect the toxicity of a drug candidate at early stages. In this tutorial we will implement different approaches in order to build a flexible classifier for mutagenicity prediction.\n",
    "\n",
    "At the time I was writing this tutorial, I didn't know about the existence of a larger data set (7090 compounds), so I am going to use my initial data set (4336 compounds) from this [source](http://cheminformatics.org/datasets/bursi/).\n",
    "\n",
    "The tutorial consist of four parts. In part one, we will make a classifier using  descriptors. In part two, the classifier will be based on the knowledge about toxicophores. In part three, we will implement a voting system to  and in the final part I will test the performance of the classifiers on a bigger dataset.|\n"
   ]
  },
  {
   "cell_type": "markdown",
   "metadata": {},
   "source": [
    "### Part I. Building  a machine learning classifier based on descriptors."
   ]
  },
  {
   "cell_type": "markdown",
   "metadata": {},
   "source": [
    "We will use [RDKIT](http://www.rdkit.org/) to extract the molecule descriptors (features)."
   ]
  },
  {
   "cell_type": "code",
   "execution_count": null,
   "metadata": {
    "collapsed": false
   },
   "outputs": [],
   "source": [
    "import numpy as np\n",
    "from rdkit import Chem\n",
    "from rdkit.Chem import Descriptors\n",
    "from rdkit.ML.Descriptors import MoleculeDescriptors\n",
    "\n",
    "def extract_features(file_name):\n",
    "    '''\n",
    "    Return a list of descriptors and class labels\n",
    "    '''\n",
    "    list_of_descr = []\n",
    "    sdf =  [i for i in Chem.SDMolSupplier(file_name) if i is not None]\n",
    "    classes={'nonmutagen':0,'mutagen':1}\n",
    "    for mol in sdf:    \n",
    "        calc = MoleculeDescriptors.MolecularDescriptorCalculator(descr_names)\n",
    "        each_mol = [i for i in calc.CalcDescriptors(mol)]\n",
    "        smiles = Chem.MolToSmiles(mol)\n",
    "        bin_label = classes[mol.GetProp('Ames test categorisation')]        \n",
    "        each_mol.append(smiles)\n",
    "        each_mol.append(bin_label) \n",
    "        list_of_descr.append(each_mol)\n",
    "    \n",
    "    return list_of_descr\n",
    "\n",
    "descr_names = [i[0] for i in Descriptors._descList if i[0] != 'ExactMolWt']\n",
    "\n",
    "data = extract_features('cas_4337.sdf')\n",
    "\n",
    "# Appending 'labels' to the descriptors names\n",
    "descr_names.append('smiles')\n",
    "descr_names.append('labels')\n"
   ]
  },
  {
   "cell_type": "code",
   "execution_count": null,
   "metadata": {
    "collapsed": false
   },
   "outputs": [],
   "source": [
    "import csv\n",
    "\n",
    "# Writing data to .csv files\n",
    "def write_to_csv(file_name, data):\n",
    "    with open(file_name, 'wb') as f:\n",
    "        csv_writer = csv.writer(f, delimiter = ',')\n",
    "        csv_writer.writerow(descr_names)\n",
    "        csv_writer.writerows(data)\n",
    "        \n",
    "write_to_csv('rdkit_mutagens.csv', data)"
   ]
  },
  {
   "cell_type": "markdown",
   "metadata": {},
   "source": [
    "Splitting the data into a training and a testing sets."
   ]
  },
  {
   "cell_type": "code",
   "execution_count": null,
   "metadata": {
    "collapsed": false
   },
   "outputs": [],
   "source": [
    "import random\n",
    "\n",
    "\n",
    "def split_data(input_file, n):\n",
    "    '''\n",
    "    Split data into a training and a testing sets. n - is a size of a training set.\n",
    "    '''\n",
    "    with open(input_file, 'rb') as f:\n",
    "        csv_reader = csv.reader(f, delimiter = ',')\n",
    "        header = csv_reader.next()\n",
    "        data = [row for row in csv_reader]\n",
    "        train_data = random.sample(data, n)\n",
    "        test_data = [i for i in data if i not in train_data]\n",
    "    return header, train_data, test_data\n",
    "\n",
    "header, train_data, test_data = split_data('rdkit_mutagens.csv', 3000)    "
   ]
  },
  {
   "cell_type": "code",
   "execution_count": null,
   "metadata": {
    "collapsed": true
   },
   "outputs": [],
   "source": [
    "def write_to_csv(file_name, header, data):\n",
    "    \"\"\"\n",
    "    Write data to a .csv file\n",
    "    \"\"\"\n",
    "    with open(file_name, 'wb') as f:\n",
    "        csv_writer = csv.writer(f, delimiter=',')\n",
    "        csv_writer.writerow(header)\n",
    "        csv_writer.writerows(data)\n",
    "        \n",
    "write_to_csv('rdkit_mutagens_train.csv', header, train_data)\n",
    "write_to_csv('rdkit_mutagens_test.csv', header, test_data)"
   ]
  },
  {
   "cell_type": "markdown",
   "metadata": {},
   "source": [
    "Downloads: [rdkit_mutagens_train.csv](https://www.dropbox.com/s/kjda2l2hi19unp8/rdkit_mutagens_train.csv?dl=0), [rdkit_mutagens_test.csv](https://www.dropbox.com/s/z0llcq3s66ygbx4/rdkit_mutagens_test.csv?dl=0)"
   ]
  },
  {
   "cell_type": "markdown",
   "metadata": {},
   "source": [
    "### Building the classifier."
   ]
  },
  {
   "cell_type": "code",
   "execution_count": 1,
   "metadata": {
    "collapsed": true
   },
   "outputs": [],
   "source": [
    "import pandas as pd"
   ]
  },
  {
   "cell_type": "code",
   "execution_count": 2,
   "metadata": {
    "collapsed": false
   },
   "outputs": [],
   "source": [
    "# Loading data into Pandas\n",
    "df_train = pd.read_csv('rdkit_mutagens_train.csv').dropna()\n",
    "df_test = pd.read_csv('rdkit_mutagens_test.csv').dropna()\n",
    "\n",
    "# X -> features, y -> labels\n",
    "X_train = df_train[df_train.columns[:-2]]\n",
    "y_train = df_train['labels']\n",
    "\n",
    "X_test = df_test[df_test.columns[:-2]]\n",
    "y_test = df_test['labels']"
   ]
  },
  {
   "cell_type": "markdown",
   "metadata": {},
   "source": [
    "#### *It is very important to standardize the features otherwise the classifier will perform very badly!*"
   ]
  },
  {
   "cell_type": "code",
   "execution_count": 3,
   "metadata": {
    "collapsed": false
   },
   "outputs": [],
   "source": [
    "from sklearn.preprocessing import StandardScaler\n",
    "\n",
    "std = StandardScaler().fit(X_train)\n",
    "X_train_std = std.transform(X_train)\n",
    "X_test_std = std.transform(X_test)"
   ]
  },
  {
   "cell_type": "markdown",
   "metadata": {},
   "source": [
    "#### There are several machine learning algorithms for classification and we are going to start with the Naive Bayes."
   ]
  },
  {
   "cell_type": "code",
   "execution_count": 4,
   "metadata": {
    "collapsed": false
   },
   "outputs": [
    {
     "name": "stdout",
     "output_type": "stream",
     "text": [
      "Accuracy is: 0.6362\n",
      "\n",
      "[[181 433]\n",
      " [ 53 669]]\n"
     ]
    }
   ],
   "source": [
    "from sklearn.naive_bayes import GaussianNB \n",
    "from sklearn import metrics\n",
    "\n",
    "nb = GaussianNB()\n",
    "\n",
    "# Training the model\n",
    "nb.fit(X_train_std, y_train)\n",
    "\n",
    "# Predicting labels\n",
    "nb_pred = nb.predict(X_test_std)\n",
    "\n",
    "# Measuring accuracy of the model\n",
    "accuracy = metrics.accuracy_score(y_test, nb_pred)\n",
    "\n",
    "print \"Accuracy is: {}\".format(round(accuracy, 4))\n",
    "\n",
    "#Confusion matrix\n",
    "conf_matrix = metrics.confusion_matrix(y_test, nb_pred)\n",
    "print '\\n',conf_matrix"
   ]
  },
  {
   "cell_type": "code",
   "execution_count": 5,
   "metadata": {
    "collapsed": false
   },
   "outputs": [
    {
     "name": "stdout",
     "output_type": "stream",
     "text": [
      "Specificity: 0.926592797784\n",
      "Sensitivity: 0.294788273616\n"
     ]
    }
   ],
   "source": [
    "from __future__ import division\n",
    "\n",
    "# Sensitivity = (TP)/(TP + FN)\n",
    "# Specificity = (TN)/(TN + FP)\n",
    "\n",
    "def spec_sens(matrix):\n",
    "    print \"Specificity:\", matrix[1,1]/sum(matrix[1, :])\n",
    "    print \"Sensitivity:\", matrix[0,0]/sum(matrix[0,:])\n",
    "    \n",
    "spec_sens(conf_matrix)"
   ]
  },
  {
   "cell_type": "code",
   "execution_count": 6,
   "metadata": {
    "collapsed": false
   },
   "outputs": [
    {
     "name": "stdout",
     "output_type": "stream",
     "text": [
      "             precision    recall  f1-score   support\n",
      "\n",
      "          0       0.77      0.29      0.43       614\n",
      "          1       0.61      0.93      0.73       722\n",
      "\n",
      "avg / total       0.68      0.64      0.59      1336\n",
      "\n"
     ]
    }
   ],
   "source": [
    "# another way to get a classification report\n",
    "print metrics.classification_report(y_test, nb_pred)"
   ]
  },
  {
   "cell_type": "code",
   "execution_count": 7,
   "metadata": {
    "collapsed": true
   },
   "outputs": [],
   "source": [
    "%matplotlib inline\n",
    "import seaborn as sns\n",
    "import matplotlib.pyplot as plt"
   ]
  },
  {
   "cell_type": "markdown",
   "metadata": {},
   "source": [
    "Plotting the results."
   ]
  },
  {
   "cell_type": "code",
   "execution_count": 8,
   "metadata": {
    "collapsed": false
   },
   "outputs": [
    {
     "data": {
      "image/png": "[encoded data removed]",
      "text/plain": [
       "<matplotlib.figure.Figure at 0x7fab86b9e850>"
      ]
     },
     "metadata": {},
     "output_type": "display_data"
    }
   ],
   "source": [
    "sns.heatmap(metrics.confusion_matrix(y_test, nb_pred))\n",
    "plt.xlabel('Predicted class', fontsize = 14)\n",
    "plt.ylabel('True class', fontsize = 14)\n",
    "plt.show()"
   ]
  },
  {
   "cell_type": "markdown",
   "metadata": {},
   "source": [
    "#### Next algorithm to try is Logistic Regression."
   ]
  },
  {
   "cell_type": "code",
   "execution_count": 9,
   "metadata": {
    "collapsed": false
   },
   "outputs": [
    {
     "name": "stdout",
     "output_type": "stream",
     "text": [
      "Accuracy is: 0.7934\n",
      "\n",
      "[[473 141]\n",
      " [135 587]]\n"
     ]
    }
   ],
   "source": [
    "from sklearn.linear_model import LogisticRegression\n",
    "\n",
    "log_reg = LogisticRegression()\n",
    "\n",
    "# Training the model\n",
    "log_reg.fit(X_train_std, y_train)\n",
    "\n",
    "# Predicting labels\n",
    "log_pred = log_reg.predict(X_test_std)\n",
    "\n",
    "# Measuring accuracy of the model\n",
    "accuracy = metrics.accuracy_score(y_test, log_pred)\n",
    "\n",
    "print \"Accuracy is: {}\".format(round(accuracy, 4))\n",
    "\n",
    "#Confusion matrix\n",
    "conf_matrix = metrics.confusion_matrix(y_test, log_pred)\n",
    "print '\\n',conf_matrix"
   ]
  },
  {
   "cell_type": "code",
   "execution_count": 10,
   "metadata": {
    "collapsed": false
   },
   "outputs": [
    {
     "name": "stdout",
     "output_type": "stream",
     "text": [
      "Specificity: 0.813019390582\n",
      "Sensitivity: 0.770358306189\n"
     ]
    }
   ],
   "source": [
    "# Sensitivity = (TP)/(TP + FN)\n",
    "# Specificity = (TN)/(TN + FP)\n",
    "\n",
    "def spec_sens(matrix):\n",
    "    print \"Specificity:\", float(matrix[1,1])/sum(matrix[1, :])\n",
    "    print \"Sensitivity:\", float(matrix[0,0])/sum(matrix[0,:])\n",
    "    \n",
    "spec_sens(conf_matrix)"
   ]
  },
  {
   "cell_type": "code",
   "execution_count": 11,
   "metadata": {
    "collapsed": false
   },
   "outputs": [
    {
     "data": {
      "image/png": "[encoded data removed]",
      "text/plain": [
       "<matplotlib.figure.Figure at 0x7fab956e0d90>"
      ]
     },
     "metadata": {},
     "output_type": "display_data"
    }
   ],
   "source": [
    "sns.heatmap(metrics.confusion_matrix(y_test, log_pred))\n",
    "plt.xlabel('Predicted class', fontsize = 14)\n",
    "plt.ylabel('True class', fontsize = 14)\n",
    "plt.show()"
   ]
  },
  {
   "cell_type": "markdown",
   "metadata": {},
   "source": [
    "#### Next classifier is KNeighborsClassifier."
   ]
  },
  {
   "cell_type": "code",
   "execution_count": 12,
   "metadata": {
    "collapsed": false
   },
   "outputs": [
    {
     "name": "stdout",
     "output_type": "stream",
     "text": [
      "Accuracy is: 0.8091\n",
      "\n",
      "[[469 145]\n",
      " [110 612]]\n"
     ]
    }
   ],
   "source": [
    "from sklearn.neighbors import KNeighborsClassifier\n",
    "\n",
    "knn = KNeighborsClassifier(n_neighbors=7)\n",
    "\n",
    "# Training the model\n",
    "knn.fit(X_train_std, y_train)\n",
    "\n",
    "# Predicting labels\n",
    "knn_pred = knn.predict(X_test_std)\n",
    "\n",
    "# Measuring accuracy of the model\n",
    "accuracy = metrics.accuracy_score(y_test, knn_pred)\n",
    "\n",
    "print \"Accuracy is: {}\".format(round(accuracy, 4))\n",
    "\n",
    "#Confusion matrix\n",
    "conf_matrix = metrics.confusion_matrix(y_test, knn_pred)\n",
    "print '\\n',conf_matrix"
   ]
  },
  {
   "cell_type": "code",
   "execution_count": 13,
   "metadata": {
    "collapsed": false
   },
   "outputs": [
    {
     "name": "stdout",
     "output_type": "stream",
     "text": [
      "Specificity: 0.847645429363\n",
      "Sensitivity: 0.763843648208\n"
     ]
    }
   ],
   "source": [
    "def spec_sens(matrix):\n",
    "    print \"Specificity:\", float(matrix[1,1])/sum(matrix[1, :])\n",
    "    print \"Sensitivity:\", float(matrix[0,0])/sum(matrix[0,:])\n",
    "    \n",
    "spec_sens(conf_matrix)"
   ]
  },
  {
   "cell_type": "code",
   "execution_count": 14,
   "metadata": {
    "collapsed": false
   },
   "outputs": [
    {
     "data": {
      "image/png": "[encoded data removed]",
      "text/plain": [
       "<matplotlib.figure.Figure at 0x7fab84e72290>"
      ]
     },
     "metadata": {},
     "output_type": "display_data"
    }
   ],
   "source": [
    "sns.heatmap(metrics.confusion_matrix(y_test, knn_pred))\n",
    "plt.xlabel('Predicted class', fontsize = 14)\n",
    "plt.ylabel('True class', fontsize = 14)\n",
    "plt.show()"
   ]
  },
  {
   "cell_type": "markdown",
   "metadata": {},
   "source": [
    "#### The  Random Forest Classifier."
   ]
  },
  {
   "cell_type": "code",
   "execution_count": 15,
   "metadata": {
    "collapsed": false
   },
   "outputs": [
    {
     "name": "stdout",
     "output_type": "stream",
     "text": [
      "Accuracy is: 0.8436\n",
      "\n",
      "[[507 107]\n",
      " [102 620]] \n",
      "\n",
      "Specificity: 0.858725761773\n",
      "Sensitivity: 0.825732899023\n"
     ]
    }
   ],
   "source": [
    "from sklearn.ensemble import RandomForestClassifier\n",
    "\n",
    "rf = RandomForestClassifier(n_estimators = 100)\n",
    "\n",
    "# Training the model\n",
    "rf.fit(X_train_std, y_train)\n",
    "\n",
    "# Predicting labels\n",
    "rf_pred = rf.predict(X_test_std)\n",
    "\n",
    "# Measuring accuracy of the model\n",
    "rf_accuracy = metrics.accuracy_score(y_test, rf_pred)\n",
    "\n",
    "print \"Accuracy is: {}\".format(round(rf_accuracy, 4))\n",
    "\n",
    "#Confusion matrix\n",
    "conf_matrix = metrics.confusion_matrix(y_test, rf_pred)\n",
    "print '\\n',conf_matrix, '\\n'\n",
    "def spec_sens(matrix):\n",
    "    print \"Specificity:\", float(matrix[1,1])/sum(matrix[1, :])\n",
    "    print \"Sensitivity:\", float(matrix[0,0])/sum(matrix[0,:])\n",
    "    \n",
    "spec_sens(conf_matrix)"
   ]
  },
  {
   "cell_type": "code",
   "execution_count": 16,
   "metadata": {
    "collapsed": false
   },
   "outputs": [
    {
     "data": {
      "image/png": "[encoded data removed]",
      "text/plain": [
       "<matplotlib.figure.Figure at 0x7fab84e72f50>"
      ]
     },
     "metadata": {},
     "output_type": "display_data"
    }
   ],
   "source": [
    "sns.heatmap(metrics.confusion_matrix(y_test, rf_pred))\n",
    "plt.xlabel('Predicted class', fontsize = 14)\n",
    "plt.ylabel('True class', fontsize = 14)\n",
    "plt.show()"
   ]
  },
  {
   "cell_type": "markdown",
   "metadata": {},
   "source": [
    "So, let's summarize the results in a table:"
   ]
  },
  {
   "cell_type": "markdown",
   "metadata": {},
   "source": [
    "|   Classifier       | Acccuracy| Specificity| Sensitivity|\n",
    "|--------------------|----------|------------|------------|\n",
    "|Naive Bayes         |  0.64    |   0.93     |   0.29     |\n",
    "|Logistic Regression |  0.79    |   0.81     |   0.77     | \n",
    "|KNeighbors          |  0.81    |   0.85     |   0.76     |\n",
    "|Random Forest       |  0.84    |   0.86     |   0.83     |\n"
   ]
  },
  {
   "cell_type": "code",
   "execution_count": 17,
   "metadata": {
    "collapsed": false
   },
   "outputs": [],
   "source": [
    "# saving the Random Forest Classifier\n",
    "import pickle\n",
    "\n",
    "with open('mutagen_model.pickle', 'wb') as f:\n",
    "  pickle.dump(rf, f)"
   ]
  },
  {
   "cell_type": "markdown",
   "metadata": {},
   "source": [
    "As you can see, the Naive Bayes performed the worse and the performance of other algorithms is close to each other but the Random Forest gave the best results so we are going to use it in the further parts. In the second part, I will build a classifier using knowledge about toxicophores."
   ]
  }
 ],
 "metadata": {
  "kernelspec": {
   "display_name": "Python 2",
   "language": "python",
   "name": "python2"
  },
  "language_info": {
   "codemirror_mode": {
    "name": "ipython",
    "version": 2
   },
   "file_extension": ".py",
   "mimetype": "text/x-python",
   "name": "python",
   "nbconvert_exporter": "python",
   "pygments_lexer": "ipython2",
   "version": "2.7.10"
  }
 },
 "nbformat": 4,
 "nbformat_minor": 0
}
