{
 "metadata": {
  "name": ""
 },
 "nbformat": 3,
 "nbformat_minor": 0,
 "worksheets": [
  {
   "cells": [
    {
     "cell_type": "markdown",
     "metadata": {},
     "source": [
      "### Part 2. Building a knowledge-based classifier."
     ]
    },
    {
     "cell_type": "markdown",
     "metadata": {},
     "source": [
      "In the [Part 1](http://nbviewer.ipython.org/gist/py-chemist/12390b995cfbb1c0f6ac) we used several machine learning algorithms to classify mutagenicity using just molecule's descriptors.\n",
      "In this part we are going to make a classification based on knowledge about toxicophores. Toxicophores are substructures those presence indicates on a high probability of mutagenicity. In [this article](http://pubs.acs.org/doi/abs/10.1021/jm040835a) Kazius et al., in addition to already known toxicophores, detected a large number of new toxicophores and used them to build statistical models to predict mutagenicity. Authors also stressed out that the presence of a toxicophore in a chemical structure does not necessarily mean that a compound is mutagenic. A compound may also have a certain functional group(s)  that can deactivate (detoxify) the toxicophore and in that case a compound is classified as nonmutagenic. Here is an example:"
     ]
    },
    {
     "cell_type": "code",
     "collapsed": false,
     "input": [
      "from rdkit import Chem\n",
      "from rdkit.Chem import Draw\n",
      "from rdkit.Chem.Draw import IPythonConsole\n",
      "\n",
      "smiles = ['CN(C(=O)c1ccc([N+](=O)[O-])s1)c1ccc(Cl)cc1','O=[N+]([O-])c1ccc(S(=O)(=O)Nc2ccccn2)cc1']\n",
      "mols = [Chem.MolFromSmiles(smi) for smi in smiles]\n",
      "\n",
      "Draw.MolsToGridImage(mols,subImgSize=(200,150),legends=['A mutagen', 'B nonmutagen'])"
     ],
     "language": "python",
     "metadata": {},
     "outputs": [
      {
       "metadata": {},
       "output_type": "pyout",
       "png": "[encoded data removed]",
       "prompt_number": 1,
       "text": [
        "<PIL.Image.Image image mode=RGB size=450x150 at 0x7F6F481E2998>"
       ]
      }
     ],
     "prompt_number": 1
    },
    {
     "cell_type": "markdown",
     "metadata": {},
     "source": [
      "Both compounds, A and B, have the aromatic nitro group (toxicophore) but compound B is nonmutagenic since the sulfonamide group detoxifies the nitro grop."
     ]
    },
    {
     "cell_type": "markdown",
     "metadata": {},
     "source": [
      "Kazius et al., nicely provided toxicophores and deactivating groups as SMARTS strings ([supporting information](http://pubs.acs.org/doi/suppl/10.1021/jm040835a)). I divided them into two groups - those that are unique (do not have deactivating groups) and those that may contain both a toxicophore(s) and deactivating group(s). Below is a list of unique toxicophores."
     ]
    },
    {
     "cell_type": "code",
     "collapsed": false,
     "input": [
      "all_unique = ['a[N;X2]=O', 'CO[N;X2]=O', 'N[N;X2]=O', 'O1[c,C]-[c,C]1', 'C1NC1',\n",
      "     'N=[N+]=[N-]', 'C=[N+]=[N-]','N=N-N', 'cN!@;=[N;X3]', '[OH]O', '[OH][N;X2]=C',\n",
      "    '[c,C]OO[c,C]', 'C[NH][NH]C', '[OH]Na', '[NH2]Na', '[OH][N;X2]=[N;X2]',\n",
      "    '[Cl,Br,I]C', '[Cl,Br,I]C=O', '[N,S]!@[C;X4]!@[CH2][Cl,Br,I]', 'SC[Cl]',\n",
      "    '[Cl,Br,I]!@[C;X4]!@[C;X4]O', '[Cl]C([X1])=C[X1]','[Cl,Br,I]C(([F,Cl,Br,I])[X1])C=C',\n",
      "    '[cH]1[cH]ccc2c1c3c(cc2)cc[cH][cH]3','[Cl,Br,I]C(([F,Cl,Br,I])[X1])C(=O)[c,C]',\n",
      "    '[cH]1ccc2c1[cH][cH]c3c2ccc[cH]3', '[C,c]OS((=O)=O)O!@[c,C]','[c,C]S((=O)=O!@[c,C])',\n",
      "    'O=N(~O)N', '[N;v4]#N', 'O=C1CCO1', '[CH]=[CH]O','aN([OH])','aN(O*=O)', 'aN([#1])',\n",
      "    'aN(C=O)[CH3]', 'aN[CH3]', '[NH;!R][NH;!R]a', '[CH3][NH]a', 'a13~a~a~a~a2~a1~a(~a~a~a~3)~a~a~a~2',\n",
      "    'a1~a~a~a2~a~1~a~a3~a(~a~2)~a~a~a~3', 'a1~a~a~a2~a~1~a~a~a3~a~2~a~a~a~3',\n",
      "    'a1~a~a~a~2a~a~1~a3~a(~a~2)~a~a~a~a~3','a1~a~a~a~2a~a~1~a~a3~a(~a~2)~a~a~a~3',\n",
      "    'a1~a~a~a~2a~a~1~a~a3~a(~a~2)~a~a~a~a~3', 'a1~a~a~a~2a~a~1~a~a~a3~a~2~a~a~a~3',\n",
      "    'a1~a~a~a~2a~a~1~a~a~a3~a~2~a~a~a~a~3', 'a13~a~a~a~2a~a1~a(~a~a~a~3)~a~a~2']"
     ],
     "language": "python",
     "metadata": {},
     "outputs": [],
     "prompt_number": 2
    },
    {
     "cell_type": "markdown",
     "metadata": {},
     "source": [
      "The second group is presented as a dictionary where the key is a general pattern for a toxicophore and the value is a list of spesific structures of detoxifying groups. Here is an example:"
     ]
    },
    {
     "cell_type": "code",
     "collapsed": false,
     "input": [
      "d = {'O=N(~O)a':['O=N(O)c(aS(=O)=O)', 'O=N(O)c(aaS(=O)=O)','O=N(O)c(aaaS(=O)=O)',\n",
      "                 'O=N(O)c(aC((F)F)F)', 'O=N(O)c(aaC((F)F)F)', 'O=N(O)c(aaaC((F)F)F)']\n",
      "     }"
     ],
     "language": "python",
     "metadata": {},
     "outputs": [],
     "prompt_number": 3
    },
    {
     "cell_type": "markdown",
     "metadata": {},
     "source": [
      "So, if a coumpound contains O=N(~O)a it is a mutagen BUT if the same compound contains one of the following substructures: O=N(O)c(aS(=O)=O), O=N(O)c(aaS(=O)=O), O=N(O)c(aaaS(=O)=O), O=N(O)c(aC((F)F)F), O=N(O)c(aaC((F)F)F), or O=N(O)c(aaaC((F)F)F) it is considered as a nonmutagen. The full dictionary looks like this:"
     ]
    },
    {
     "cell_type": "code",
     "collapsed": false,
     "input": [
      "d = {'O=N(~O)a':['O=N(O)c(aS(=O)=O)', 'O=N(O)c(aaS(=O)=O)','O=N(O)c(aaaS(=O)=O)',\n",
      "                 'O=N(O)c(aC((F)F)F)', 'O=N(O)c(aaC((F)F)F)', 'O=N(O)c(aaaC((F)F)F)'],\n",
      "     'a[NH2]':['[NH2]a(a(C((F)F)F))', '[NH2]a(a(S(=O)=O))', '[NH2]a(a(C(=O)O))',\n",
      "               '[NH2]a(aa(C((F)F)F))', '[NH2]a(aa(S(=O)=O))' '[NH2]a(aa(C(=O)O))',\n",
      "               '[NH2]a(aaa(C((F)F)F))', '[NH2]a(aaa(S(=O)=O))', '[NH2]a(aaa(C(=O)O))'],\n",
      "     'c[N;X2]!@;=[N;X2]c':['[N;X2](acS((=O)=O))=[N;X2](acS((=O)=O))','[N;X2](aacS((=O)=O))=[N;X2](aacS((=O)=O))',\n",
      "                           '[N;X2](aaacS((=O)=O))=[N;X2](aaacS((=O)=O))','[N;X2](aaaacS((=O)=O))=[N;X2](aaaacS((=O)=O))'],\n",
      "     '[OH,NN2][N,O]': ['O=N(O)[O-]'],\n",
      "     '[OH]N':['[OH]Na','[OH][N;X2]=*'],\n",
      "     '[Cl,Br,I][C;X4]': ['[Cl,Br,I][C;X4][F,Cl,Br,I]','[Cl,Br,I]C((C)C)C'],\n",
      "     '[Cl,Br,I][CH][CH3]':['[Cl,Br,I][C]([Cl,Br,I,F])[CH3]'],\n",
      "     'O=[CH]C=C':['O=[CH]C([N,O,S])=C','O=[CH]C=C[N,O,S]','O=[CH]C=Ca'],\n",
      "     'O=[CH]C=O':['O=[CH]C([N,O,S])=C','O=[CH]C=C[N,O,S]','O=[CH]C=Ca'],\n",
      "     '[CH3][NH]a':['[CH3][NH]a(a(C((F)F)F))', '[CH3][NH]a(a(S=O))','[CH3][NH]a(a(C(=O)O))',\n",
      "                   '[CH3][NH]a(aa(C((F)F)F))','[CH3][NH]a(aa(S=O))','[CH3][NH]a(aa(C(=O)O))',\n",
      "                   '[CH3][NH]a(aaa(C((F)F)F))','[CH3][NH]a(aaa(S=O))', '[CH3][NH]a(aaa(C(=O)O))']\n",
      "     }"
     ],
     "language": "python",
     "metadata": {},
     "outputs": [],
     "prompt_number": 4
    },
    {
     "cell_type": "markdown",
     "metadata": {},
     "source": [
      "N.B. I had to type all these SMARTS strings by hand since the supporting document represents a picture of tables embedded into a .pdf  file without a \"copy/paste\" functionality. Hope I typed all strings correctly. "
     ]
    },
    {
     "cell_type": "heading",
     "level": 3,
     "metadata": {},
     "source": [
      "A knowledge-based classifier."
     ]
    },
    {
     "cell_type": "markdown",
     "metadata": {},
     "source": [
      "The plan:\n",
      "1. Load SMILES.\n",
      "2. Check for every SMILES if it has unique toxicophores.\n",
      "3. Check for every SMILES if it has detoxichophores.\n",
      "4. Combine both results.\n",
      "5. Transform a combined result to labels('nonmutagen': 0, 'mutagen':1)\n",
      "6. Evaluate the classifier."
     ]
    },
    {
     "cell_type": "markdown",
     "metadata": {},
     "source": [
      "1.Loading SMILES"
     ]
    },
    {
     "cell_type": "code",
     "collapsed": false,
     "input": [
      "import pandas as pd\n",
      "\n",
      "# Loading SMILES \n",
      "df = pd.read_csv('/home/py-chemist/Projects/Machine_Learning/Mutagenes/rdkit_mutagens_test.csv').dropna()\n",
      "\n",
      "smiles = df.smiles"
     ],
     "language": "python",
     "metadata": {},
     "outputs": [],
     "prompt_number": 5
    },
    {
     "cell_type": "markdown",
     "metadata": {},
     "source": [
      "2.Getting unique toxicophores. We will use [Pybel](http://openbabel.org/docs/current/UseTheLibrary/Python_Pybel.html) to deal with SMARTS"
     ]
    },
    {
     "cell_type": "code",
     "collapsed": false,
     "input": [
      "import pybel as pb\n",
      "\n",
      "def unique_toxi():\n",
      "    '''\n",
      "    Return a list of labels - 0 or 1.\n",
      "    '''\n",
      "    mol_list = []\n",
      "    for smi in smiles: \n",
      "        l = []\n",
      "        mol = pb.readstring(\"smi\",smi) \n",
      "        for toxi in all_unique:            \n",
      "            smarts = pb.Smarts(toxi)\n",
      "            if len(smarts.findall(mol)) > 0:\n",
      "                l.append(1)\n",
      "            else:\n",
      "                l.append(0)\n",
      "        mol_list.append(sum(l))\n",
      "        \n",
      "    return mol_list"
     ],
     "language": "python",
     "metadata": {},
     "outputs": [],
     "prompt_number": 6
    },
    {
     "cell_type": "markdown",
     "metadata": {},
     "source": [
      "3.First we check if a general patern of a toxicophore is present. If not, a compound is nonmutagenic. If yes, we need to check if the number of deactivating groups equals to the number of general toxicophores. If it's equal, then nonmutagenic. If less, then mutagenic."
     ]
    },
    {
     "cell_type": "code",
     "collapsed": false,
     "input": [
      "def dict_toxi():\n",
      "    '''\n",
      "    Return a list of labels - 0 or a total number of toxicophores\n",
      "    '''\n",
      "    mol_list = []\n",
      "    for smi in smiles:\n",
      "        l = []\n",
      "        mol = pb.readstring(\"smi\",smi)\n",
      "        for k,v in d.iteritems():            \n",
      "            k_smarts = pb.Smarts(k)\n",
      "            n = len(k_smarts.findall(mol))\n",
      "            if n == 0:\n",
      "                l.append(0)\n",
      "            else:                \n",
      "                for each in v:\n",
      "                    d_list = []\n",
      "                    v_smarts = pb.Smarts(each)\n",
      "                    d_list.append(len(v_smarts.findall(mol)))\n",
      "                    if n > sum(d_list):\n",
      "                        l.append(1)\n",
      "                    elif n == sum(d_list):\n",
      "                        l.append(0) \n",
      "        mol_list.append(sum(l))\n",
      "                    \n",
      "    return mol_list "
     ],
     "language": "python",
     "metadata": {},
     "outputs": [],
     "prompt_number": 7
    },
    {
     "cell_type": "markdown",
     "metadata": {},
     "source": [
      "4.Combining both results"
     ]
    },
    {
     "cell_type": "code",
     "collapsed": false,
     "input": [
      "import numpy as np\n",
      "\n",
      "all_toxi_labels =  np.array(unique_toxi()) + np.array(dict_toxi())"
     ],
     "language": "python",
     "metadata": {},
     "outputs": [],
     "prompt_number": 8
    },
    {
     "cell_type": "markdown",
     "metadata": {},
     "source": [
      "5.Transforming to labels (0 or 1) since a compound may have more than one toxicophores."
     ]
    },
    {
     "cell_type": "code",
     "collapsed": false,
     "input": [
      "# predicited labels\n",
      "labels_pred = []\n",
      "\n",
      "for i in all_toxi_labels:\n",
      "    if i == 0:\n",
      "        labels_pred.append(0)\n",
      "    else:\n",
      "        labels_pred.append(1)"
     ],
     "language": "python",
     "metadata": {},
     "outputs": [],
     "prompt_number": 9
    },
    {
     "cell_type": "markdown",
     "metadata": {},
     "source": [
      "6.Evaluating the classifier."
     ]
    },
    {
     "cell_type": "code",
     "collapsed": false,
     "input": [
      "from sklearn import metrics\n",
      "\n",
      "# True labels\n",
      "labels = df.labels\n",
      "\n",
      "# Scoring\n",
      "score = metrics.accuracy_score(labels, labels_pred)\n",
      "print score\n",
      "conf_matrix = metrics.confusion_matrix(labels, labels_pred)\n",
      "print '\\n', conf_matrix\n"
     ],
     "language": "python",
     "metadata": {},
     "outputs": [
      {
       "output_type": "stream",
       "stream": "stdout",
       "text": [
        "0.738023952096\n",
        "\n",
        "[[456 158]\n",
        " [192 530]]\n"
       ]
      }
     ],
     "prompt_number": 10
    },
    {
     "cell_type": "code",
     "collapsed": false,
     "input": [
      "from __future__ import division\n",
      "\n",
      "def spec_sens(matrix):\n",
      "    print \"Specificity:\", matrix[1,1]/sum(matrix[1,:])\n",
      "    print \"Sensitivity:\", matrix[0,0]/sum(matrix[0,:])\n",
      "    \n",
      "spec_sens(conf_matrix)\n"
     ],
     "language": "python",
     "metadata": {},
     "outputs": [
      {
       "output_type": "stream",
       "stream": "stdout",
       "text": [
        "Specificity: 0.734072022161\n",
        "Sensitivity: 0.742671009772\n"
       ]
      }
     ],
     "prompt_number": 11
    },
    {
     "cell_type": "markdown",
     "metadata": {},
     "source": [
      "#### Conclusion:"
     ]
    },
    {
     "cell_type": "markdown",
     "metadata": {},
     "source": [
      "The performance of this classifier is a little worse then those that based on molecule's descriptors (except the Naive Bayes). In the next part we will combine both classifiers to get a more flexible predictive model."
     ]
    }
   ],
   "metadata": {}
  }
 ]
}