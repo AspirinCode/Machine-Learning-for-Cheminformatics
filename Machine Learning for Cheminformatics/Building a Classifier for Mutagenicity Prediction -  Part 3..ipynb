{
 "metadata": {
  "name": ""
 },
 "nbformat": 3,
 "nbformat_minor": 0,
 "worksheets": [
  {
   "cells": [
    {
     "cell_type": "markdown",
     "metadata": {},
     "source": [
      "### Part 3. Combining the machine learning and the knowledge-based classifiers."
     ]
    },
    {
     "cell_type": "markdown",
     "metadata": {},
     "source": [
      "In this part we will develop a voting system between two predictive models that we developed in parts [one](http://nbviewer.ipython.org/gist/py-chemist/12390b995cfbb1c0f6ac) and [two](http://nbviewer.ipython.org/gist/py-chemist/3ccad77d6e808e3742d2). So let's load both models."
     ]
    },
    {
     "cell_type": "markdown",
     "metadata": {},
     "source": [
      "#### The Random Forest Classifier."
     ]
    },
    {
     "cell_type": "code",
     "collapsed": false,
     "input": [
      "from __future__ import division\n",
      "import pandas as pd\n",
      "import numpy as np"
     ],
     "language": "python",
     "metadata": {},
     "outputs": [],
     "prompt_number": 1
    },
    {
     "cell_type": "code",
     "collapsed": false,
     "input": [
      "# Loading data into Pandas\n",
      "df_train = pd.read_csv('/home/py-chemist/Projects/Machine_Learning/Mutagenes/rdkit_mutagens_train.csv').dropna()\n",
      "df_test = pd.read_csv('/home/py-chemist/Projects/Machine_Learning/Mutagenes/rdkit_mutagens_test.csv').dropna()"
     ],
     "language": "python",
     "metadata": {},
     "outputs": [],
     "prompt_number": 2
    },
    {
     "cell_type": "code",
     "collapsed": false,
     "input": [
      "# Standartdizing the features\n",
      "from sklearn.preprocessing import StandardScaler\n",
      "\n",
      "X_train = df_train[df_train.columns[:-2]]\n",
      "y_train = df_train['labels']\n",
      "\n",
      "X_test = df_test[df_test.columns[:-2]]\n",
      "y_test = df_test['labels']\n",
      "                 \n",
      "\n",
      "std_scale = StandardScaler().fit(X_train)\n",
      "X_train_std = std_scale.transform(X_train)\n",
      "X_test_std = std_scale.transform(X_test)"
     ],
     "language": "python",
     "metadata": {},
     "outputs": [],
     "prompt_number": 3
    },
    {
     "cell_type": "code",
     "collapsed": false,
     "input": [
      "import pickle\n",
      "\n",
      "# Loading the model preserved in part two\n",
      "with open('/home/py-chemist/Projects/Machine_Learning/Mutagenes/mutagen_model.pickle', 'rb') as f:\n",
      "    random_forest = pickle.load(f)"
     ],
     "language": "python",
     "metadata": {},
     "outputs": [],
     "prompt_number": 4
    },
    {
     "cell_type": "code",
     "collapsed": false,
     "input": [
      "# Predicting labels\n",
      "rf_pred = random_forest.predict(X_test_std)"
     ],
     "language": "python",
     "metadata": {},
     "outputs": [],
     "prompt_number": 5
    },
    {
     "cell_type": "code",
     "collapsed": false,
     "input": [
      "from sklearn import metrics\n",
      "\n",
      "# Measuring accuracy of the model\n",
      "accuracy = metrics.accuracy_score(y_test, rf_pred)\n",
      "\n",
      "print \"Accuracy is: {}\".format(round(accuracy, 4))\n",
      "\n",
      "#Confusion matrix\n",
      "conf_matrix = metrics.confusion_matrix(y_test, rf_pred)\n",
      "print '\\n',conf_matrix"
     ],
     "language": "python",
     "metadata": {},
     "outputs": [
      {
       "output_type": "stream",
       "stream": "stdout",
       "text": [
        "Accuracy is: 0.8436\n",
        "\n",
        "[[507 107]\n",
        " [102 620]]\n"
       ]
      }
     ],
     "prompt_number": 6
    },
    {
     "cell_type": "code",
     "collapsed": false,
     "input": [
      "def spec_sens(matrix):\n",
      "    print \"Specificity:\", matrix[1,1]/sum(matrix[1, :])\n",
      "    print \"Sensitivity:\", matrix[0,0]/sum(matrix[0,:])\n",
      "    \n",
      "spec_sens(conf_matrix)"
     ],
     "language": "python",
     "metadata": {},
     "outputs": [
      {
       "output_type": "stream",
       "stream": "stdout",
       "text": [
        "Specificity: 0.858725761773\n",
        "Sensitivity: 0.825732899023\n"
       ]
      }
     ],
     "prompt_number": 7
    },
    {
     "cell_type": "markdown",
     "metadata": {},
     "source": [
      "### The knowledge-based classifier."
     ]
    },
    {
     "cell_type": "code",
     "collapsed": false,
     "input": [
      "all_toxi = ['a[N;X2]=O', 'CO[N;X2]=O', 'N[N;X2]=O', 'O1[c,C]-[c,C]1', 'C1NC1',\n",
      "     'N=[N+]=[N-]', 'C=[N+]=[N-]','N=N-N', 'cN!@;=[N;X3]', '[OH]O', '[OH][N;X2]=C',\n",
      "    '[c,C]OO[c,C]', 'C[NH][NH]C', '[OH]Na', '[NH2]Na', '[OH][N;X2]=[N;X2]',\n",
      "    '[Cl,Br,I]C', '[Cl,Br,I]C=O', '[N,S]!@[C;X4]!@[CH2][Cl,Br,I]', 'SC[Cl]',\n",
      "    '[Cl,Br,I]!@[C;X4]!@[C;X4]O', '[Cl]C([X1])=C[X1]','[Cl,Br,I]C(([F,Cl,Br,I])[X1])C=C',\n",
      "    '[cH]1[cH]ccc2c1c3c(cc2)cc[cH][cH]3','[Cl,Br,I]C(([F,Cl,Br,I])[X1])C(=O)[c,C]',\n",
      "    '[cH]1ccc2c1[cH][cH]c3c2ccc[cH]3', '[C,c]OS((=O)=O)O!@[c,C]','[c,C]S((=O)=O!@[c,C])',\n",
      "    'O=N(~O)N', '[N;v4]#N', 'O=C1CCO1', '[CH]=[CH]O','aN([OH])','aN(O*=O)', 'aN([#1])',\n",
      "    'aN(C=O)[CH3]', 'aN[CH3]',\n",
      "    '[NH;!R][NH;!R]a', '[CH3][NH]a', 'a13~a~a~a~a2~a1~a(~a~a~a~3)~a~a~a~2',\n",
      "    'a1~a~a~a2~a~1~a~a3~a(~a~2)~a~a~a~3', 'a1~a~a~a2~a~1~a~a~a3~a~2~a~a~a~3',\n",
      "    'a1~a~a~a~2a~a~1~a3~a(~a~2)~a~a~a~a~3','a1~a~a~a~2a~a~1~a~a3~a(~a~2)~a~a~a~3',\n",
      "    'a1~a~a~a~2a~a~1~a~a3~a(~a~2)~a~a~a~a~3', 'a1~a~a~a~2a~a~1~a~a~a3~a~2~a~a~a~3',\n",
      "    'a1~a~a~a~2a~a~1~a~a~a3~a~2~a~a~a~a~3', 'a13~a~a~a~2a~a1~a(~a~a~a~3)~a~a~2']\n",
      "\n",
      "\n",
      "\n",
      "d = {'O=N(~O)a':['O=N(O)c(aS(=O)=O)', 'O=N(O)c(aaS(=O)=O)','O=N(O)c(aaaS(=O)=O)',\n",
      "                 'O=N(O)c(aC((F)F)F)', 'O=N(O)c(aaC((F)F)F)', 'O=N(O)c(aaaC((F)F)F)'],\n",
      "     'a[NH2]':['[NH2]a(a(C((F)F)F))', '[NH2]a(a(S(=O)=O))', '[NH2]a(a(C(=O)O))',\n",
      "               '[NH2]a(aa(C((F)F)F))', '[NH2]a(aa(S(=O)=O))' '[NH2]a(aa(C(=O)O))',\n",
      "               '[NH2]a(aaa(C((F)F)F))', '[NH2]a(aaa(S(=O)=O))', '[NH2]a(aaa(C(=O)O))'],\n",
      "     'c[N;X2]!@;=[N;X2]c':['[N;X2](acS((=O)=O))=[N;X2](acS((=O)=O))','[N;X2](aacS((=O)=O))=[N;X2](aacS((=O)=O))',\n",
      "                           '[N;X2](aaacS((=O)=O))=[N;X2](aaacS((=O)=O))','[N;X2](aaaacS((=O)=O))=[N;X2](aaaacS((=O)=O))'],\n",
      "     '[OH,NN2][N,O]': ['O=N(O)[O-]'],\n",
      "     '[OH]N':['[OH]Na','[OH][N;X2]=*'],\n",
      "     '[Cl,Br,I][C;X4]': ['[Cl,Br,I][C;X4][F,Cl,Br,I]','[Cl,Br,I]C((C)C)C'],\n",
      "     '[Cl,Br,I][CH][CH3]':['[Cl,Br,I][C]([Cl,Br,I,F])[CH3]'],\n",
      "     'O=[CH]C=C':['O=[CH]C([N,O,S])=C','O=[CH]C=C[N,O,S]','O=[CH]C=Ca'],\n",
      "     'O=[CH]C=O':['O=[CH]C([N,O,S])=C','O=[CH]C=C[N,O,S]','O=[CH]C=Ca'],\n",
      "     '[CH3][NH]a':['[CH3][NH]a(a(C((F)F)F))', '[CH3][NH]a(a(S=O))','[CH3][NH]a(a(C(=O)O))',\n",
      "                   '[CH3][NH]a(aa(C((F)F)F))','[CH3][NH]a(aa(S=O))','[CH3][NH]a(aa(C(=O)O))',\n",
      "                   '[CH3][NH]a(aaa(C((F)F)F))','[CH3][NH]a(aaa(S=O))', '[CH3][NH]a(aaa(C(=O)O))']\n",
      "     }"
     ],
     "language": "python",
     "metadata": {},
     "outputs": [],
     "prompt_number": 8
    },
    {
     "cell_type": "code",
     "collapsed": false,
     "input": [
      "import pybel as pb\n",
      "\n",
      "all_smiles = df_test.smiles\n",
      "\n",
      "def unique_toxi():\n",
      "    mol_list = []\n",
      "    for smiles in all_smiles: \n",
      "        l = []\n",
      "        mol = pb.readstring(\"smi\",smiles) \n",
      "        for toxi in all_toxi:            \n",
      "            smarts = pb.Smarts(toxi)\n",
      "            if len(smarts.findall(mol)) > 0:\n",
      "                l.append(1)\n",
      "            else:\n",
      "                l.append(0)\n",
      "        mol_list.append(sum(l))\n",
      "        \n",
      "    return mol_list\n",
      "\n",
      "def dict_toxi():\n",
      "    mol_list = []\n",
      "    for smiles in all_smiles:\n",
      "        l = []\n",
      "        mol = pb.readstring(\"smi\",smiles)\n",
      "        for k,v in d.iteritems():            \n",
      "            k_smarts = pb.Smarts(k)\n",
      "            n = len(k_smarts.findall(mol))\n",
      "            if n == 0:\n",
      "                l.append(0)\n",
      "            else:                \n",
      "                for each in v:\n",
      "                    d_list = []\n",
      "                    v_smarts = pb.Smarts(each)\n",
      "                    d_list.append(len(v_smarts.findall(mol)))\n",
      "                    if n > sum(d_list):\n",
      "                        l.append(1)\n",
      "                    elif n == sum(d_list):\n",
      "                        l.append(0) \n",
      "        mol_list.append(sum(l))\n",
      "                    \n",
      "    return mol_list   "
     ],
     "language": "python",
     "metadata": {},
     "outputs": [],
     "prompt_number": 9
    },
    {
     "cell_type": "code",
     "collapsed": false,
     "input": [
      "all_toxi_labels =  np.array(unique_toxi()) + np.array(dict_toxi())"
     ],
     "language": "python",
     "metadata": {},
     "outputs": [],
     "prompt_number": 10
    },
    {
     "cell_type": "code",
     "collapsed": false,
     "input": [
      "merged_toxi = []\n",
      "\n",
      "for i in all_toxi_labels:\n",
      "    if i == 0:\n",
      "        merged_toxi.append(0)\n",
      "    else:\n",
      "        merged_toxi.append(1)"
     ],
     "language": "python",
     "metadata": {},
     "outputs": [],
     "prompt_number": 11
    },
    {
     "cell_type": "code",
     "collapsed": false,
     "input": [
      "from sklearn import metrics\n",
      "\n",
      "# Scoring\n",
      "score = metrics.accuracy_score(y_test, merged_toxi)\n",
      "print score\n",
      "conf_matrix = metrics.confusion_matrix(y_test, merged_toxi)\n",
      "print '\\n', conf_matrix\n"
     ],
     "language": "python",
     "metadata": {},
     "outputs": [
      {
       "output_type": "stream",
       "stream": "stdout",
       "text": [
        "0.738023952096\n",
        "\n",
        "[[456 158]\n",
        " [192 530]]\n"
       ]
      }
     ],
     "prompt_number": 12
    },
    {
     "cell_type": "code",
     "collapsed": false,
     "input": [
      "def spec_sens(matrix):\n",
      "    print \"Specificity:\", matrix[1,1]/sum(matrix[1, :])\n",
      "    print \"Sensitivity:\", matrix[0,0]/sum(matrix[0,:])\n",
      "    \n",
      "spec_sens(conf_matrix)"
     ],
     "language": "python",
     "metadata": {},
     "outputs": [
      {
       "output_type": "stream",
       "stream": "stdout",
       "text": [
        "Specificity: 0.734072022161\n",
        "Sensitivity: 0.742671009772\n"
       ]
      }
     ],
     "prompt_number": 13
    },
    {
     "cell_type": "markdown",
     "metadata": {},
     "source": [
      "### The voting system."
     ]
    },
    {
     "cell_type": "markdown",
     "metadata": {},
     "source": [
      "Let's imagine a situation when a medicinal chemist checks some drug candidates on mutagenicity using a predictive model. If a drug candidate is nonmutagenic but the classifier predicts it as mutagenic, in this case a medicinal chemist will just not take this compound for further consideration. A worse scenario would be if a drug candidate is mutagenic but the classifier predicts it as nonmutagenic, in that case any further efforts working with that drug candidate will be waisted. So, in some cases it would be nice to have a system that can prioritize specificity over sensitivity and vice versa. This is where a voting algorithm comes into play.\n",
      "\n",
      "P.S. In the scenario above, we consider that the prediction is the main method for determining the mutagenicity of a compound of interest."
     ]
    },
    {
     "cell_type": "markdown",
     "metadata": {},
     "source": [
      "#### Increasing specificity."
     ]
    },
    {
     "cell_type": "markdown",
     "metadata": {},
     "source": [
      "At this point we have two predictive model - machine (ML) learning and the one that based on toxicophores (the knowledge-based algorithm). In order to increase specificity we will combine them such a way that the ML will assign label '1' (mutagen) to the final label no matter what label knowledge-based system gives for the same compound. The rest of the labels are assigned by the knowledge-based classifier."
     ]
    },
    {
     "cell_type": "code",
     "collapsed": false,
     "input": [
      "vote_for_spec = []\n",
      "\n",
      "for i in range(len(merged_toxi)):\n",
      "    if rf_pred[i] == 1:\n",
      "        vote_for_spec.append(1)\n",
      "    else:\n",
      "        vote_for_spec.append(merged_toxi[i])"
     ],
     "language": "python",
     "metadata": {},
     "outputs": [],
     "prompt_number": 17
    },
    {
     "cell_type": "code",
     "collapsed": false,
     "input": [
      "score = metrics.accuracy_score(y_test, vote_for_spec)\n",
      "print score\n",
      "print '\\n',metrics.confusion_matrix(y_test, vote_for_spec)"
     ],
     "language": "python",
     "metadata": {},
     "outputs": [
      {
       "output_type": "stream",
       "stream": "stdout",
       "text": [
        "0.803143712575\n",
        "\n",
        "[[407 207]\n",
        " [ 56 666]]\n"
       ]
      }
     ],
     "prompt_number": 18
    },
    {
     "cell_type": "code",
     "collapsed": false,
     "input": [
      "def spec_sens(matrix):\n",
      "    print \"Specificity:\", matrix[1,1]/sum(matrix[1, :])\n",
      "    print \"Sensitivity:\", matrix[0,0]/sum(matrix[0,:])\n",
      "    \n",
      "spec_sens(metrics.confusion_matrix(y_test, vote_for_spec))"
     ],
     "language": "python",
     "metadata": {},
     "outputs": [
      {
       "output_type": "stream",
       "stream": "stdout",
       "text": [
        "Specificity: 0.92243767313\n",
        "Sensitivity: 0.662866449511\n"
       ]
      }
     ],
     "prompt_number": 19
    },
    {
     "cell_type": "markdown",
     "metadata": {},
     "source": [
      "As you noticed, the accuracy droped a little down (from 0.84 to 0.80) but at the same time the specificity increased from 0.86 to almost 0.92 compare to the Random Forest classifier."
     ]
    },
    {
     "cell_type": "markdown",
     "metadata": {},
     "source": [
      "#### Incresing sensitivity"
     ]
    },
    {
     "cell_type": "markdown",
     "metadata": {},
     "source": [
      "To increase sensitivity, the knowledge-based algorithm will assign label '0' (nonmutagen) to the final label no matter what label the machine learning algorithm predicts for the same compound. The rest of the labels are assigned by ML classifier."
     ]
    },
    {
     "cell_type": "code",
     "collapsed": false,
     "input": [
      "# predicted labels\n",
      "vote_for_toxi = []\n",
      "\n",
      "for i in range(len(merged_toxi)):\n",
      "    if merged_toxi[i] == 0:\n",
      "        vote_for_toxi.append(0)\n",
      "    else:\n",
      "        vote_for_toxi.append(rf_pred[i])"
     ],
     "language": "python",
     "metadata": {},
     "outputs": [],
     "prompt_number": 20
    },
    {
     "cell_type": "code",
     "collapsed": false,
     "input": [
      "score = metrics.accuracy_score(y_test,vote_for_toxi)\n",
      "print score\n",
      "print '\\n',metrics.confusion_matrix(y_test, vote_for_toxi)"
     ],
     "language": "python",
     "metadata": {},
     "outputs": [
      {
       "output_type": "stream",
       "stream": "stdout",
       "text": [
        "0.778443113772\n",
        "\n",
        "[[556  58]\n",
        " [238 484]]\n"
       ]
      }
     ],
     "prompt_number": 21
    },
    {
     "cell_type": "code",
     "collapsed": false,
     "input": [
      "def spec_sens(matrix):\n",
      "    print \"Specificity:\", matrix[1,1]/sum(matrix[1, :])\n",
      "    print \"Sensitivity:\", matrix[0,0]/sum(matrix[0,:])\n",
      "    \n",
      "spec_sens(metrics.confusion_matrix(y_test, vote_for_toxi))"
     ],
     "language": "python",
     "metadata": {},
     "outputs": [
      {
       "output_type": "stream",
       "stream": "stdout",
       "text": [
        "Specificity: 0.670360110803\n",
        "Sensitivity: 0.905537459283\n"
       ]
      }
     ],
     "prompt_number": 22
    },
    {
     "cell_type": "markdown",
     "metadata": {},
     "source": [
      "In this case the sensitivity was increased from 0.825 to 0.905 (compare to the random forest classifier)."
     ]
    },
    {
     "cell_type": "markdown",
     "metadata": {},
     "source": [
      "### Summary:"
     ]
    },
    {
     "cell_type": "markdown",
     "metadata": {},
     "source": [
      "The combination of the machine learning  (the random forest classifier) and the knowledge-based algorithms via voting system provides a flexible predictive classifier which can be tuned depending on the problem that needs to be resolved. "
     ]
    }
   ],
   "metadata": {}
  }
 ]
}